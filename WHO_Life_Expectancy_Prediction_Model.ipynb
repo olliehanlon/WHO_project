{
 "cells": [
  {
   "cell_type": "markdown",
   "metadata": {
    "id": "LMTsKpXG7XSM"
   },
   "source": [
    "<p style=\"text-align:center;\">\n",
    "<img src=\"https://www.un.org/youthenvoy/wp-content/uploads/2014/09/WHO.jpg\"\n",
    "     alt=\"DigitalFuturesLogo\"\n",
    "     style=\"float: center; margin-right: 10px;\" />\n",
    "</p>\n"
   ]
  },
  {
   "cell_type": "markdown",
   "metadata": {
    "id": "h82cR2v4zBDa"
   },
   "source": [
    "# WHO Life Expectancy Project - The Function\n",
    "## Root Team Squared Error\n",
    "\n",
    "----\n",
    "### Project Overview\n",
    "The aim is to construct two linear regression models for life expectancy based on the data provided by the WHO. One model which features as much data as necessary for model performance, and one which is restricted on the basis of what we evaluate to be sensitive data. The data spans 183 countries and records information between 2000 and 2015.\n",
    "\n",
    "### Team Members\n",
    "* Fátima González González\n",
    "* Lydia Drabkin-Reiter\n",
    "* Ollie Hanlon\n",
    "* Rowan Jarvis\n",
    "* Jake Haycocks\n",
    "\n",
    "----\n"
   ]
  },
  {
   "cell_type": "markdown",
   "metadata": {
    "id": "HmhO5tTpzL-W"
   },
   "source": [
    "# FUNCTION"
   ]
  },
  {
   "cell_type": "code",
   "execution_count": null,
   "metadata": {
    "id": "cA5f-kF_vWkc"
   },
   "outputs": [],
   "source": [
    "import numpy as np"
   ]
  },
  {
   "cell_type": "code",
   "execution_count": null,
   "metadata": {
    "id": "2plt9-G9vxN6"
   },
   "outputs": [],
   "source": [
    "def model_selector():\n",
    "    \"\"\"\n",
    "    Allows a selection of model based on consent to using advanced population data, which may include protected information for better accuracy.\n",
    "\n",
    "    User Inputs:\n",
    "    Consent y/n\n",
    "    Returns:\n",
    "    best_performing_model or minimalistic_model (var): name of the chosen model\n",
    "    \"\"\"\n",
    "    model_choice = input(\"Do you consent to using advanced population data, which may include protected information for better accuracy? (y/n) \").lower().strip()\n",
    "    while True:\n",
    "        if model_choice == 'y':\n",
    "            return best_performing_model\n",
    "        elif model_choice == 'n':\n",
    "            return limited_model\n",
    "        else:\n",
    "          model_choice = input(\"Please, answer y/n. \\nDo you consent to using advanced population data, which may include protected information for better accuracy? (y/n) \").lower().strip()"
   ]
  },
  {
   "cell_type": "code",
   "execution_count": null,
   "metadata": {
    "id": "s0hAtgXT-r6o"
   },
   "outputs": [],
   "source": [
    "def get_data_from_user(model):\n",
    "    \"\"\"\n",
    "    Gets needed data from user for model\n",
    "\n",
    "    Args:\n",
    "    model (var) : model to use to extract the relevant columns\n",
    "\n",
    "    Returns:\n",
    "    scaled_values (list): scaled values to implement in the model\n",
    "    \"\"\"\n",
    "    # values empty list that will be filled with user input\n",
    "    values = []\n",
    "    for col in model['columns']:\n",
    "      values.append([col, float(input(f'Provide a value for {col}: ').strip())])\n",
    "      # for models with GDP, we calculate the log\n",
    "      if col == 'GDP':\n",
    "        values[-1][1] = np.log(values[-1][1])\n",
    "    # scaling the data (MinMaxScaler transformation)\n",
    "    scaled_values = scale(values, scaler)\n",
    "    return scaled_values"
   ]
  },
  {
   "cell_type": "code",
   "execution_count": null,
   "metadata": {
    "id": "zKfEevSBv2bp"
   },
   "outputs": [],
   "source": [
    "def scale(values, scaler):\n",
    "    \"\"\"\n",
    "    Scales list of values using MinMaxScaler transformation\n",
    "\n",
    "    Args:\n",
    "    values (list) : tuples in the form (column, input value)\n",
    "    scaler (dic)  : Dictionary with columns as keys and dictionaries of mins and maxes as values\n",
    "\n",
    "    Returns:\n",
    "    scaled_list (list): scaled list of input values\n",
    "    \"\"\"\n",
    "    scaled_list = []\n",
    "    for col, value in values:\n",
    "        X_std = (value - scaler[col]['min']) / (scaler[col]['max'] - scaler[col]['min'])\n",
    "        #    X_scaled = X_std * (1 - 0) + 0 #default max is 1, min is 0. It's usually * (max - min) + min\n",
    "        scaled_list.append(X_std)\n",
    "    return scaled_list"
   ]
  },
  {
   "cell_type": "code",
   "execution_count": null,
   "metadata": {
    "id": "aLbGqUGCv9_w"
   },
   "outputs": [],
   "source": [
    "def life_expectancy_predictor(model, scaled_values):\n",
    "    \"\"\"\n",
    "    Performs Life Expectancy prediction using a specificed model with the data provided by the user.\n",
    "\n",
    "    Args:\n",
    "    model (dic) : model to use for the prediction\n",
    "    scaled_values (list) : scaled values to use for the prediction\n",
    "\n",
    "    Returns:\n",
    "    life_expectancy_prediction (float) : predicted life expectancy\n",
    "\n",
    "    \"\"\"\n",
    "    # initialising life_expectancy_prediction with the constant value\n",
    "    life_expectancy_prediction = model['params'][0]\n",
    "    # implementing the model\n",
    "    for p, x in zip(model['params'][1:], scaled_values):\n",
    "      life_expectancy_prediction += p*x\n",
    "    # print statement with the final life expectancy prediction\n",
    "    if 40.639251 < life_expectancy_prediction < 97.072899:  # Predition within 3 standard deviation from the mean\n",
    "      print('The estimated Life Expectancy is ', round(life_expectancy_prediction, 2))\n",
    "    else:\n",
    "      # Life Expectancy out of expected ranges\n",
    "      print('\\nWarning: The estimated Life Expectancy is far out the expected range.\\n')\n",
    "      # Negative Life Expectancy retuns 0\n",
    "      if life_expectancy_prediction < 0:\n",
    "        life_expectancy_prediction = 0\n",
    "      print('The estimated Life Expectancy is ', round(life_expectancy_prediction, 2))\n",
    "    # returns life_expectancy_prediction value (float) in case it is wanted for futher use\n",
    "    return life_expectancy_prediction"
   ]
  },
  {
   "cell_type": "code",
   "execution_count": null,
   "metadata": {
    "id": "ZEPtDLp4AYoT"
   },
   "outputs": [],
   "source": [
    "def main ():\n",
    "    model = model_selector()\n",
    "    scaled_values = get_data_from_user(model)\n",
    "    life_expectancy_predictor(model, scaled_values)"
   ]
  },
  {
   "cell_type": "code",
   "execution_count": null,
   "metadata": {
    "id": "B0p6NZjVwA5Q"
   },
   "outputs": [],
   "source": [
    "# DATA\n",
    "best_performing_model = {'columns':['Adult Mortality', 'Infant Deaths', 'GDP'], 'params' : [76.6453, -30.258006, -17.446125, 4.720947]}\n",
    "limited_model = {'columns':['Adult Mortality', 'GDP'], 'params' : [71.265829, -40.091971, 12.347190]}\n",
    "scaler = {'GDP': {'max': 11.629979 , 'min': 4.997212}, 'Adult Mortality': {'max': 703.677, 'min': 49.384}, 'Year': {'max': 2015, 'min': 2000},'Infant Deaths': {'max': 135.6, 'min': 1.8}}"
   ]
  },
  {
   "cell_type": "markdown",
   "metadata": {
    "id": "Yj7xVGzt810R"
   },
   "source": [
    "### Field descriptions"
   ]
  },
  {
   "cell_type": "markdown",
   "metadata": {
    "id": "zmp8iAK65VEe"
   },
   "source": [
    "|Field|Description|\n",
    "|---:|:---|\n",
    "|Life expectancy|Life Expectancy in age|\n",
    "|Adult Mortality|Adult Mortality Rates of both sexes (probability of dying between 15 and 60 years per 1000 population)|\n",
    "|infant deaths|Number of Infant Deaths per 1000 population|\n",
    "GDP|Gross Domestic Product per capita (in USD)|"
   ]
  },
  {
   "cell_type": "markdown",
   "metadata": {
    "id": "P5Qud7kF-BeV"
   },
   "source": [
    "### Execution of main function"
   ]
  },
  {
   "cell_type": "code",
   "execution_count": null,
   "metadata": {
    "colab": {
     "base_uri": "https://localhost:8080/"
    },
    "id": "3v-06OXs1NbR",
    "outputId": "97bb4334-4691-4084-e8dc-cfed8bfbc310"
   },
   "outputs": [
    {
     "name": "stdout",
     "output_type": "stream",
     "text": [
      "Do you consent to using advanced population data, which may include protected information for better accuracy? (y/n) y\n",
      "Provide a value for Adult Mortality: 50\n",
      "Provide a value for Infant Deaths: 50\n",
      "Provide a value for GDP: 10000\n",
      "The estimated Life Expectancy is  73.33\n"
     ]
    }
   ],
   "source": [
    "main()"
   ]
  },
  {
   "cell_type": "markdown",
   "metadata": {
    "id": "_qUE6T-6870M"
   },
   "source": [
    "## Examples"
   ]
  },
  {
   "cell_type": "markdown",
   "metadata": {
    "id": "yU4rPh379ZTg"
   },
   "source": [
    "Testing data"
   ]
  },
  {
   "cell_type": "markdown",
   "metadata": {
    "id": "MWAHE5CJ1x2Q"
   },
   "source": [
    "|Field|Value|\n",
    "|---:|:---|\n",
    "|Adult Mortality|176.6680|\n",
    "|Infant Deaths|14.3|\n",
    "|GDP|35863|\n",
    "|**Life expectancy**|**72.0**|\n",
    "\n"
   ]
  },
  {
   "cell_type": "markdown",
   "metadata": {
    "id": "0rj3hlrC9jRa"
   },
   "source": [
    "### Model 1: general model (answering 'y')"
   ]
  },
  {
   "cell_type": "code",
   "execution_count": null,
   "metadata": {
    "colab": {
     "base_uri": "https://localhost:8080/"
    },
    "id": "F5AudcyTlC3V",
    "outputId": "df42fa3b-93b3-40ff-e28a-54773539d210"
   },
   "outputs": [
    {
     "name": "stdout",
     "output_type": "stream",
     "text": [
      "Do you consent to using advanced population data, which may include protected information for better accuracy? (y/n) y\n",
      "Provide a value for Adult Mortality: 176.6680\n",
      "Provide a value for Infant Deaths: 14.3\n",
      "Provide a value for GDP: 35863 \n",
      "The estimated Life Expectancy is  73.04\n"
     ]
    }
   ],
   "source": [
    "main()"
   ]
  },
  {
   "cell_type": "code",
   "execution_count": null,
   "metadata": {
    "colab": {
     "base_uri": "https://localhost:8080/"
    },
    "id": "UpN2Jrud3aiP",
    "outputId": "34eac094-3c67-46d3-b922-6254897261b4"
   },
   "outputs": [
    {
     "name": "stdout",
     "output_type": "stream",
     "text": [
      "Off by 1.04 years\n"
     ]
    }
   ],
   "source": [
    "print('Off by', round(73.04 - 72, 2), 'years' )"
   ]
  },
  {
   "cell_type": "markdown",
   "metadata": {
    "id": "E7G3nHFXC7Ng"
   },
   "source": [
    " RMSE: **1.471**"
   ]
  },
  {
   "cell_type": "markdown",
   "metadata": {
    "id": "rYnhUBbF9tIa"
   },
   "source": [
    "### Model 2: limited model (answering 'n')"
   ]
  },
  {
   "cell_type": "code",
   "execution_count": null,
   "metadata": {
    "colab": {
     "base_uri": "https://localhost:8080/"
    },
    "id": "B_cEeEOi4xjz",
    "outputId": "a604ef33-541a-45aa-aa8b-e26beeaccb41"
   },
   "outputs": [
    {
     "name": "stdout",
     "output_type": "stream",
     "text": [
      "Do you consent to using advanced population data, which may include protected information for better accuracy? (y/n) n\n",
      "Provide a value for Adult Mortality: 176.6680\n",
      "Provide a value for GDP: 35863\n",
      "The estimated Life Expectancy is  73.69\n"
     ]
    }
   ],
   "source": [
    "main()"
   ]
  },
  {
   "cell_type": "code",
   "execution_count": null,
   "metadata": {
    "colab": {
     "base_uri": "https://localhost:8080/"
    },
    "id": "cH8dCjvV4843",
    "outputId": "b2ae03e6-89ec-4fba-f212-8d8fb2667fbe"
   },
   "outputs": [
    {
     "name": "stdout",
     "output_type": "stream",
     "text": [
      "Off by 1.69 years\n"
     ]
    }
   ],
   "source": [
    "print('Off by',round(73.69 - 72, 2), 'years')"
   ]
  },
  {
   "cell_type": "markdown",
   "metadata": {
    "id": "JDVEWi0FDANa"
   },
   "source": [
    "RMSE: **2.418**"
   ]
  },
  {
   "cell_type": "markdown",
   "metadata": {
    "id": "f6puqToQ90Vc"
   },
   "source": [
    "### Out of range values"
   ]
  },
  {
   "cell_type": "markdown",
   "metadata": {
    "id": "if83ONjEpuvh"
   },
   "source": [
    "We implemented a warning statement for out of range values."
   ]
  },
  {
   "cell_type": "code",
   "execution_count": null,
   "metadata": {
    "colab": {
     "base_uri": "https://localhost:8080/"
    },
    "id": "EVtM0Y2H5PrY",
    "outputId": "cbb56b7b-b061-4ef0-c52c-442bca858b2a"
   },
   "outputs": [
    {
     "name": "stdout",
     "output_type": "stream",
     "text": [
      "Do you consent to using advanced population data, which may include protected information for better accuracy? (y/n) n\n",
      "Provide a value for Adult Mortality: 10000000\n",
      "Provide a value for GDP: 10000000000\n",
      "\n",
      "Warning: The estimated Life Expectancy is far out the expected range.\n",
      "\n",
      "The estimated Life Expectancy is  0\n"
     ]
    }
   ],
   "source": [
    "main()"
   ]
  },
  {
   "cell_type": "code",
   "execution_count": null,
   "metadata": {
    "colab": {
     "base_uri": "https://localhost:8080/"
    },
    "id": "fXB5xc838qTN",
    "outputId": "26462b1a-7804-469e-9c9e-a7e6fe7361e5"
   },
   "outputs": [
    {
     "name": "stdout",
     "output_type": "stream",
     "text": [
      "Do you consent to using advanced population data, which may include protected information for better accuracy? (y/n) n\n",
      "Provide a value for Adult Mortality: 0\n",
      "Provide a value for GDP: 1000000000\n",
      "\n",
      "Warning: The estimated Life Expectancy is far out the expected range.\n",
      "\n",
      "The estimated Life Expectancy is  103.57\n"
     ]
    }
   ],
   "source": [
    "main()"
   ]
  }
 ],
 "metadata": {
  "colab": {
   "provenance": [],
   "toc_visible": true
  },
  "kernelspec": {
   "display_name": "Python 3 (ipykernel)",
   "language": "python",
   "name": "python3"
  },
  "language_info": {
   "codemirror_mode": {
    "name": "ipython",
    "version": 3
   },
   "file_extension": ".py",
   "mimetype": "text/x-python",
   "name": "python",
   "nbconvert_exporter": "python",
   "pygments_lexer": "ipython3",
   "version": "3.11.5"
  }
 },
 "nbformat": 4,
 "nbformat_minor": 4
}
